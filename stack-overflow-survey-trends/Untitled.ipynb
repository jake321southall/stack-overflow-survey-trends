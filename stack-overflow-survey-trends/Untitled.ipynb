{
 "cells": [
  {
   "cell_type": "markdown",
   "id": "cbdf7280",
   "metadata": {},
   "source": [
    "## Exploratory Data Analysis"
   ]
  },
  {
   "cell_type": "code",
   "execution_count": 3,
   "id": "503138c8",
   "metadata": {},
   "outputs": [
    {
     "name": "stdout",
     "output_type": "stream",
     "text": [
      "   RespondentID  Year        Country          Employment  \\\n",
      "0             1  2018  United States  Employed full-time   \n",
      "1             1  2019  United States  Employed full-time   \n",
      "2             1  2020  United States  Employed full-time   \n",
      "3             2  2018  United States  Employed full-time   \n",
      "4             2  2019  United States  Employed full-time   \n",
      "\n",
      "                                      UndergradMajor  \\\n",
      "0  Computer science, computer engineering, or sof...   \n",
      "1  Computer science, computer engineering, or sof...   \n",
      "2  Computer science, computer engineering, or sof...   \n",
      "3  Computer science, computer engineering, or sof...   \n",
      "4  Computer science, computer engineering, or sof...   \n",
      "\n",
      "                                             DevType  \\\n",
      "0           Engineering manager;Full-stack developer   \n",
      "1                              Developer, full-stack   \n",
      "2                                                NaN   \n",
      "3                               Full-stack developer   \n",
      "4  Data or business analyst;Database administrato...   \n",
      "\n",
      "                                  LanguageWorkedWith  \\\n",
      "0                                                NaN   \n",
      "1                                C;C++;C#;Python;SQL   \n",
      "2                                  HTML/CSS;Ruby;SQL   \n",
      "3   C#;JavaScript;SQL;TypeScript;HTML;CSS;Bash/Shell   \n",
      "4  Bash/Shell/PowerShell;HTML/CSS;JavaScript;PHP;...   \n",
      "\n",
      "                              LanguageDesireNextYear  \\\n",
      "0                                                NaN   \n",
      "1                                C;C#;JavaScript;SQL   \n",
      "2                                    Java;Ruby;Scala   \n",
      "3   C#;JavaScript;SQL;TypeScript;HTML;CSS;Bash/Shell   \n",
      "4  Bash/Shell/PowerShell;HTML/CSS;JavaScript;Rust...   \n",
      "\n",
      "                                  DatabaseWorkedWith  \\\n",
      "0                                                NaN   \n",
      "1                                       MySQL;SQLite   \n",
      "2                      MySQL;PostgreSQL;Redis;SQLite   \n",
      "3  SQL Server;Microsoft Azure (Tables, CosmosDB, ...   \n",
      "4                  Couchbase;DynamoDB;Firebase;MySQL   \n",
      "\n",
      "                              DatabaseDesireNextYear  ...  \\\n",
      "0                                                NaN  ...   \n",
      "1                                       MySQL;SQLite  ...   \n",
      "2                                   MySQL;PostgreSQL  ...   \n",
      "3  SQL Server;Microsoft Azure (Tables, CosmosDB, ...  ...   \n",
      "4                               Firebase;MySQL;Redis  ...   \n",
      "\n",
      "                              PlatformDesireNextYear Hobbyist  \\\n",
      "0                                                NaN      NaN   \n",
      "1                                      Linux;Windows       No   \n",
      "2  Docker;Google Cloud Platform;Heroku;Linux;Windows      Yes   \n",
      "3                                              Azure      NaN   \n",
      "4  Android;AWS;Docker;IBM Cloud or Watson;Linux;S...      Yes   \n",
      "\n",
      "                OrgSize YearsCodePro  \\\n",
      "0                   NaN          NaN   \n",
      "1  100 to 499 employees          1.0   \n",
      "2                   NaN          8.0   \n",
      "3                   NaN          4.0   \n",
      "4    10 to 19 employees          8.0   \n",
      "\n",
      "                                        JobSeek ConvertedComp  WorkWeekHrs  \\\n",
      "0                                           NaN      141000.0          NaN   \n",
      "1  I am not interested in new job opportunities       61000.0         80.0   \n",
      "2                                           NaN           NaN          NaN   \n",
      "3                                           NaN       48000.0          NaN   \n",
      "4  I am not interested in new job opportunities       90000.0         40.0   \n",
      "\n",
      "   NEWJobHunt NEWJobHuntResearch     NEWLearn  \n",
      "0         NaN                NaN          NaN  \n",
      "1         NaN                NaN          NaN  \n",
      "2         NaN                NaN  Once a year  \n",
      "3         NaN                NaN          NaN  \n",
      "4         NaN                NaN          NaN  \n",
      "\n",
      "[5 rows x 21 columns]\n",
      "Index(['RespondentID', 'Year', 'Country', 'Employment', 'UndergradMajor',\n",
      "       'DevType', 'LanguageWorkedWith', 'LanguageDesireNextYear',\n",
      "       'DatabaseWorkedWith', 'DatabaseDesireNextYear', 'PlatformWorkedWith',\n",
      "       'PlatformDesireNextYear', 'Hobbyist', 'OrgSize', 'YearsCodePro',\n",
      "       'JobSeek', 'ConvertedComp', 'WorkWeekHrs', 'NEWJobHunt',\n",
      "       'NEWJobHuntResearch', 'NEWLearn'],\n",
      "      dtype='object')\n"
     ]
    },
    {
     "name": "stderr",
     "output_type": "stream",
     "text": [
      "/var/folders/75/lyw_2gw520g01lbc7x5jmbd4wpgvj8/T/ipykernel_3604/949262143.py:3: DtypeWarning: Columns (18,19,20) have mixed types. Specify dtype option on import or set low_memory=False.\n",
      "  df = pd.read_csv('developer_dataset.csv')\n"
     ]
    }
   ],
   "source": [
    "import pandas as pd\n",
    " \n",
    "df = pd.read_csv('developer_dataset.csv')\n",
    "\n",
    "print(df.head()) \n",
    "print(df.columns)"
   ]
  },
  {
   "cell_type": "code",
   "execution_count": 4,
   "id": "8e580603",
   "metadata": {},
   "outputs": [
    {
     "name": "stdout",
     "output_type": "stream",
     "text": [
      "RespondentID              111209\n",
      "Year                      111209\n",
      "Country                   111209\n",
      "Employment                109425\n",
      "UndergradMajor             98453\n",
      "DevType                   100433\n",
      "LanguageWorkedWith        102018\n",
      "LanguageDesireNextYear     96044\n",
      "DatabaseWorkedWith         85859\n",
      "DatabaseDesireNextYear     74234\n",
      "PlatformWorkedWith         91609\n",
      "PlatformDesireNextYear     85376\n",
      "Hobbyist                   68352\n",
      "OrgSize                    54804\n",
      "YearsCodePro               94793\n",
      "JobSeek                    60556\n",
      "ConvertedComp              91333\n",
      "WorkWeekHrs                51089\n",
      "NEWJobHunt                 19127\n",
      "NEWJobHuntResearch         18683\n",
      "NEWLearn                   24226\n",
      "dtype: int64\n"
     ]
    },
    {
     "data": {
      "text/plain": [
       "(111209, 21)"
      ]
     },
     "execution_count": 4,
     "metadata": {},
     "output_type": "execute_result"
    }
   ],
   "source": [
    "print(df.count())\n",
    "df.shape"
   ]
  },
  {
   "cell_type": "markdown",
   "id": "8553fe2f",
   "metadata": {},
   "source": [
    "We clearly have a lot of missing data."
   ]
  },
  {
   "cell_type": "code",
   "execution_count": 5,
   "id": "c227ef0a",
   "metadata": {},
   "outputs": [
    {
     "data": {
      "text/html": [
       "<div>\n",
       "<style scoped>\n",
       "    .dataframe tbody tr th:only-of-type {\n",
       "        vertical-align: middle;\n",
       "    }\n",
       "\n",
       "    .dataframe tbody tr th {\n",
       "        vertical-align: top;\n",
       "    }\n",
       "\n",
       "    .dataframe thead th {\n",
       "        text-align: right;\n",
       "    }\n",
       "</style>\n",
       "<table border=\"1\" class=\"dataframe\">\n",
       "  <thead>\n",
       "    <tr style=\"text-align: right;\">\n",
       "      <th></th>\n",
       "      <th>RespondentID</th>\n",
       "      <th>Year</th>\n",
       "      <th>YearsCodePro</th>\n",
       "      <th>ConvertedComp</th>\n",
       "      <th>WorkWeekHrs</th>\n",
       "    </tr>\n",
       "  </thead>\n",
       "  <tbody>\n",
       "    <tr>\n",
       "      <th>count</th>\n",
       "      <td>111209.000000</td>\n",
       "      <td>111209.000000</td>\n",
       "      <td>94793.000000</td>\n",
       "      <td>9.133300e+04</td>\n",
       "      <td>51089.000000</td>\n",
       "    </tr>\n",
       "    <tr>\n",
       "      <th>mean</th>\n",
       "      <td>19262.039709</td>\n",
       "      <td>2018.854832</td>\n",
       "      <td>9.547045</td>\n",
       "      <td>1.251777e+05</td>\n",
       "      <td>41.051670</td>\n",
       "    </tr>\n",
       "    <tr>\n",
       "      <th>std</th>\n",
       "      <td>11767.011322</td>\n",
       "      <td>0.777503</td>\n",
       "      <td>7.548931</td>\n",
       "      <td>2.461218e+05</td>\n",
       "      <td>13.833929</td>\n",
       "    </tr>\n",
       "    <tr>\n",
       "      <th>min</th>\n",
       "      <td>1.000000</td>\n",
       "      <td>2018.000000</td>\n",
       "      <td>0.000000</td>\n",
       "      <td>0.000000e+00</td>\n",
       "      <td>1.000000</td>\n",
       "    </tr>\n",
       "    <tr>\n",
       "      <th>25%</th>\n",
       "      <td>9268.000000</td>\n",
       "      <td>2018.000000</td>\n",
       "      <td>4.000000</td>\n",
       "      <td>4.600000e+04</td>\n",
       "      <td>40.000000</td>\n",
       "    </tr>\n",
       "    <tr>\n",
       "      <th>50%</th>\n",
       "      <td>18535.000000</td>\n",
       "      <td>2019.000000</td>\n",
       "      <td>8.000000</td>\n",
       "      <td>7.900000e+04</td>\n",
       "      <td>40.000000</td>\n",
       "    </tr>\n",
       "    <tr>\n",
       "      <th>75%</th>\n",
       "      <td>28347.000000</td>\n",
       "      <td>2019.000000</td>\n",
       "      <td>14.000000</td>\n",
       "      <td>1.200000e+05</td>\n",
       "      <td>42.000000</td>\n",
       "    </tr>\n",
       "    <tr>\n",
       "      <th>max</th>\n",
       "      <td>42857.000000</td>\n",
       "      <td>2020.000000</td>\n",
       "      <td>50.000000</td>\n",
       "      <td>2.000000e+06</td>\n",
       "      <td>475.000000</td>\n",
       "    </tr>\n",
       "  </tbody>\n",
       "</table>\n",
       "</div>"
      ],
      "text/plain": [
       "        RespondentID           Year  YearsCodePro  ConvertedComp   WorkWeekHrs\n",
       "count  111209.000000  111209.000000  94793.000000   9.133300e+04  51089.000000\n",
       "mean    19262.039709    2018.854832      9.547045   1.251777e+05     41.051670\n",
       "std     11767.011322       0.777503      7.548931   2.461218e+05     13.833929\n",
       "min         1.000000    2018.000000      0.000000   0.000000e+00      1.000000\n",
       "25%      9268.000000    2018.000000      4.000000   4.600000e+04     40.000000\n",
       "50%     18535.000000    2019.000000      8.000000   7.900000e+04     40.000000\n",
       "75%     28347.000000    2019.000000     14.000000   1.200000e+05     42.000000\n",
       "max     42857.000000    2020.000000     50.000000   2.000000e+06    475.000000"
      ]
     },
     "execution_count": 5,
     "metadata": {},
     "output_type": "execute_result"
    }
   ],
   "source": [
    "df.describe()"
   ]
  },
  {
   "cell_type": "code",
   "execution_count": null,
   "id": "fee8502d",
   "metadata": {},
   "outputs": [],
   "source": []
  }
 ],
 "metadata": {
  "kernelspec": {
   "display_name": "Python 3 (ipykernel)",
   "language": "python",
   "name": "python3"
  },
  "language_info": {
   "codemirror_mode": {
    "name": "ipython",
    "version": 3
   },
   "file_extension": ".py",
   "mimetype": "text/x-python",
   "name": "python",
   "nbconvert_exporter": "python",
   "pygments_lexer": "ipython3",
   "version": "3.8.8"
  }
 },
 "nbformat": 4,
 "nbformat_minor": 5
}
