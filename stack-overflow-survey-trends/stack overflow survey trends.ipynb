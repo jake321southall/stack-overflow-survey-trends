{
 "cells": [
  {
   "cell_type": "markdown",
   "id": "3a6c359b",
   "metadata": {},
   "source": [
    "## Exploratory Data Analysis"
   ]
  },
  {
   "cell_type": "code",
   "execution_count": 1,
   "id": "74c134ec",
   "metadata": {},
   "outputs": [
    {
     "name": "stdout",
     "output_type": "stream",
     "text": [
      "   RespondentID  Year        Country          Employment  \\\n",
      "0             1  2018  United States  Employed full-time   \n",
      "1             1  2019  United States  Employed full-time   \n",
      "2             1  2020  United States  Employed full-time   \n",
      "3             2  2018  United States  Employed full-time   \n",
      "4             2  2019  United States  Employed full-time   \n",
      "\n",
      "                                      UndergradMajor  \\\n",
      "0  Computer science, computer engineering, or sof...   \n",
      "1  Computer science, computer engineering, or sof...   \n",
      "2  Computer science, computer engineering, or sof...   \n",
      "3  Computer science, computer engineering, or sof...   \n",
      "4  Computer science, computer engineering, or sof...   \n",
      "\n",
      "                                             DevType  \\\n",
      "0           Engineering manager;Full-stack developer   \n",
      "1                              Developer, full-stack   \n",
      "2                                                NaN   \n",
      "3                               Full-stack developer   \n",
      "4  Data or business analyst;Database administrato...   \n",
      "\n",
      "                                  LanguageWorkedWith  \\\n",
      "0                                                NaN   \n",
      "1                                C;C++;C#;Python;SQL   \n",
      "2                                  HTML/CSS;Ruby;SQL   \n",
      "3   C#;JavaScript;SQL;TypeScript;HTML;CSS;Bash/Shell   \n",
      "4  Bash/Shell/PowerShell;HTML/CSS;JavaScript;PHP;...   \n",
      "\n",
      "                              LanguageDesireNextYear  \\\n",
      "0                                                NaN   \n",
      "1                                C;C#;JavaScript;SQL   \n",
      "2                                    Java;Ruby;Scala   \n",
      "3   C#;JavaScript;SQL;TypeScript;HTML;CSS;Bash/Shell   \n",
      "4  Bash/Shell/PowerShell;HTML/CSS;JavaScript;Rust...   \n",
      "\n",
      "                                  DatabaseWorkedWith  \\\n",
      "0                                                NaN   \n",
      "1                                       MySQL;SQLite   \n",
      "2                      MySQL;PostgreSQL;Redis;SQLite   \n",
      "3  SQL Server;Microsoft Azure (Tables, CosmosDB, ...   \n",
      "4                  Couchbase;DynamoDB;Firebase;MySQL   \n",
      "\n",
      "                              DatabaseDesireNextYear  ...  \\\n",
      "0                                                NaN  ...   \n",
      "1                                       MySQL;SQLite  ...   \n",
      "2                                   MySQL;PostgreSQL  ...   \n",
      "3  SQL Server;Microsoft Azure (Tables, CosmosDB, ...  ...   \n",
      "4                               Firebase;MySQL;Redis  ...   \n",
      "\n",
      "                              PlatformDesireNextYear Hobbyist  \\\n",
      "0                                                NaN      NaN   \n",
      "1                                      Linux;Windows       No   \n",
      "2  Docker;Google Cloud Platform;Heroku;Linux;Windows      Yes   \n",
      "3                                              Azure      NaN   \n",
      "4  Android;AWS;Docker;IBM Cloud or Watson;Linux;S...      Yes   \n",
      "\n",
      "                OrgSize YearsCodePro  \\\n",
      "0                   NaN          NaN   \n",
      "1  100 to 499 employees          1.0   \n",
      "2                   NaN          8.0   \n",
      "3                   NaN          4.0   \n",
      "4    10 to 19 employees          8.0   \n",
      "\n",
      "                                        JobSeek ConvertedComp  WorkWeekHrs  \\\n",
      "0                                           NaN      141000.0          NaN   \n",
      "1  I am not interested in new job opportunities       61000.0         80.0   \n",
      "2                                           NaN           NaN          NaN   \n",
      "3                                           NaN       48000.0          NaN   \n",
      "4  I am not interested in new job opportunities       90000.0         40.0   \n",
      "\n",
      "   NEWJobHunt NEWJobHuntResearch     NEWLearn  \n",
      "0         NaN                NaN          NaN  \n",
      "1         NaN                NaN          NaN  \n",
      "2         NaN                NaN  Once a year  \n",
      "3         NaN                NaN          NaN  \n",
      "4         NaN                NaN          NaN  \n",
      "\n",
      "[5 rows x 21 columns]\n",
      "Index(['RespondentID', 'Year', 'Country', 'Employment', 'UndergradMajor',\n",
      "       'DevType', 'LanguageWorkedWith', 'LanguageDesireNextYear',\n",
      "       'DatabaseWorkedWith', 'DatabaseDesireNextYear', 'PlatformWorkedWith',\n",
      "       'PlatformDesireNextYear', 'Hobbyist', 'OrgSize', 'YearsCodePro',\n",
      "       'JobSeek', 'ConvertedComp', 'WorkWeekHrs', 'NEWJobHunt',\n",
      "       'NEWJobHuntResearch', 'NEWLearn'],\n",
      "      dtype='object')\n"
     ]
    },
    {
     "name": "stderr",
     "output_type": "stream",
     "text": [
      "/var/folders/75/lyw_2gw520g01lbc7x5jmbd4wpgvj8/T/ipykernel_4218/1374737483.py:4: DtypeWarning: Columns (18,19,20) have mixed types. Specify dtype option on import or set low_memory=False.\n",
      "  df = pd.read_csv('developer_dataset.csv')\n"
     ]
    }
   ],
   "source": [
    "import pandas as pd\n",
    "import seaborn as sns\n",
    " \n",
    "df = pd.read_csv('developer_dataset.csv')\n",
    "\n",
    "print(df.head()) \n",
    "print(df.columns)"
   ]
  },
  {
   "cell_type": "code",
   "execution_count": 2,
   "id": "8b9d2ffe",
   "metadata": {},
   "outputs": [
    {
     "name": "stdout",
     "output_type": "stream",
     "text": [
      "RespondentID              111209\n",
      "Year                      111209\n",
      "Country                   111209\n",
      "Employment                109425\n",
      "UndergradMajor             98453\n",
      "DevType                   100433\n",
      "LanguageWorkedWith        102018\n",
      "LanguageDesireNextYear     96044\n",
      "DatabaseWorkedWith         85859\n",
      "DatabaseDesireNextYear     74234\n",
      "PlatformWorkedWith         91609\n",
      "PlatformDesireNextYear     85376\n",
      "Hobbyist                   68352\n",
      "OrgSize                    54804\n",
      "YearsCodePro               94793\n",
      "JobSeek                    60556\n",
      "ConvertedComp              91333\n",
      "WorkWeekHrs                51089\n",
      "NEWJobHunt                 19127\n",
      "NEWJobHuntResearch         18683\n",
      "NEWLearn                   24226\n",
      "dtype: int64\n"
     ]
    }
   ],
   "source": [
    "print(df.count())\n",
    "df.shape\n",
    "num_of_obvs = len(df)"
   ]
  },
  {
   "cell_type": "markdown",
   "id": "f171019f",
   "metadata": {},
   "source": [
    "We clearly have a lot of missing data."
   ]
  },
  {
   "cell_type": "code",
   "execution_count": 3,
   "id": "74dc8866",
   "metadata": {},
   "outputs": [
    {
     "data": {
      "text/html": [
       "<div>\n",
       "<style scoped>\n",
       "    .dataframe tbody tr th:only-of-type {\n",
       "        vertical-align: middle;\n",
       "    }\n",
       "\n",
       "    .dataframe tbody tr th {\n",
       "        vertical-align: top;\n",
       "    }\n",
       "\n",
       "    .dataframe thead th {\n",
       "        text-align: right;\n",
       "    }\n",
       "</style>\n",
       "<table border=\"1\" class=\"dataframe\">\n",
       "  <thead>\n",
       "    <tr style=\"text-align: right;\">\n",
       "      <th></th>\n",
       "      <th>RespondentID</th>\n",
       "      <th>Year</th>\n",
       "      <th>YearsCodePro</th>\n",
       "      <th>ConvertedComp</th>\n",
       "      <th>WorkWeekHrs</th>\n",
       "    </tr>\n",
       "  </thead>\n",
       "  <tbody>\n",
       "    <tr>\n",
       "      <th>count</th>\n",
       "      <td>111209.000000</td>\n",
       "      <td>111209.000000</td>\n",
       "      <td>94793.000000</td>\n",
       "      <td>9.133300e+04</td>\n",
       "      <td>51089.000000</td>\n",
       "    </tr>\n",
       "    <tr>\n",
       "      <th>mean</th>\n",
       "      <td>19262.039709</td>\n",
       "      <td>2018.854832</td>\n",
       "      <td>9.547045</td>\n",
       "      <td>1.251777e+05</td>\n",
       "      <td>41.051670</td>\n",
       "    </tr>\n",
       "    <tr>\n",
       "      <th>std</th>\n",
       "      <td>11767.011322</td>\n",
       "      <td>0.777503</td>\n",
       "      <td>7.548931</td>\n",
       "      <td>2.461218e+05</td>\n",
       "      <td>13.833929</td>\n",
       "    </tr>\n",
       "    <tr>\n",
       "      <th>min</th>\n",
       "      <td>1.000000</td>\n",
       "      <td>2018.000000</td>\n",
       "      <td>0.000000</td>\n",
       "      <td>0.000000e+00</td>\n",
       "      <td>1.000000</td>\n",
       "    </tr>\n",
       "    <tr>\n",
       "      <th>25%</th>\n",
       "      <td>9268.000000</td>\n",
       "      <td>2018.000000</td>\n",
       "      <td>4.000000</td>\n",
       "      <td>4.600000e+04</td>\n",
       "      <td>40.000000</td>\n",
       "    </tr>\n",
       "    <tr>\n",
       "      <th>50%</th>\n",
       "      <td>18535.000000</td>\n",
       "      <td>2019.000000</td>\n",
       "      <td>8.000000</td>\n",
       "      <td>7.900000e+04</td>\n",
       "      <td>40.000000</td>\n",
       "    </tr>\n",
       "    <tr>\n",
       "      <th>75%</th>\n",
       "      <td>28347.000000</td>\n",
       "      <td>2019.000000</td>\n",
       "      <td>14.000000</td>\n",
       "      <td>1.200000e+05</td>\n",
       "      <td>42.000000</td>\n",
       "    </tr>\n",
       "    <tr>\n",
       "      <th>max</th>\n",
       "      <td>42857.000000</td>\n",
       "      <td>2020.000000</td>\n",
       "      <td>50.000000</td>\n",
       "      <td>2.000000e+06</td>\n",
       "      <td>475.000000</td>\n",
       "    </tr>\n",
       "  </tbody>\n",
       "</table>\n",
       "</div>"
      ],
      "text/plain": [
       "        RespondentID           Year  YearsCodePro  ConvertedComp   WorkWeekHrs\n",
       "count  111209.000000  111209.000000  94793.000000   9.133300e+04  51089.000000\n",
       "mean    19262.039709    2018.854832      9.547045   1.251777e+05     41.051670\n",
       "std     11767.011322       0.777503      7.548931   2.461218e+05     13.833929\n",
       "min         1.000000    2018.000000      0.000000   0.000000e+00      1.000000\n",
       "25%      9268.000000    2018.000000      4.000000   4.600000e+04     40.000000\n",
       "50%     18535.000000    2019.000000      8.000000   7.900000e+04     40.000000\n",
       "75%     28347.000000    2019.000000     14.000000   1.200000e+05     42.000000\n",
       "max     42857.000000    2020.000000     50.000000   2.000000e+06    475.000000"
      ]
     },
     "execution_count": 3,
     "metadata": {},
     "output_type": "execute_result"
    }
   ],
   "source": [
    "df.describe()"
   ]
  },
  {
   "cell_type": "markdown",
   "id": "39399ef0",
   "metadata": {},
   "source": [
    "## Handling highly missing data\n"
   ]
  },
  {
   "cell_type": "markdown",
   "id": "8dfa6985",
   "metadata": {},
   "source": [
    "First, let's find out the percentage of missing data for each column."
   ]
  },
  {
   "cell_type": "code",
   "execution_count": 4,
   "id": "d6fbe40b",
   "metadata": {
    "scrolled": true
   },
   "outputs": [
    {
     "name": "stdout",
     "output_type": "stream",
     "text": [
      "Percentage of missing data for each column\n",
      "RespondentID               0.000000\n",
      "Year                       0.000000\n",
      "Country                    0.000000\n",
      "Employment                 1.604187\n",
      "UndergradMajor            11.470295\n",
      "DevType                    9.689863\n",
      "LanguageWorkedWith         8.264619\n",
      "LanguageDesireNextYear    13.636486\n",
      "DatabaseWorkedWith        22.794918\n",
      "DatabaseDesireNextYear    33.248208\n",
      "PlatformWorkedWith        17.624473\n",
      "PlatformDesireNextYear    23.229235\n",
      "Hobbyist                  38.537349\n",
      "OrgSize                   50.719816\n",
      "YearsCodePro              14.761395\n",
      "JobSeek                   45.547573\n",
      "ConvertedComp             17.872654\n",
      "WorkWeekHrs               54.060373\n",
      "NEWJobHunt                82.800852\n",
      "NEWJobHuntResearch        83.200101\n",
      "NEWLearn                  78.215792\n",
      "dtype: float64\n"
     ]
    }
   ],
   "source": [
    "print(f'Percentage of missing data for each column')\n",
    "print((100*(num_of_obvs - df.count()))/num_of_obvs)"
   ]
  },
  {
   "cell_type": "markdown",
   "id": "b0d226d5",
   "metadata": {},
   "source": [
    "We can see that NEWJobHunt, NEWJobHuntResearch, and NEWLearn all have greater thatn 60% data missing. Therefore, let's drop those."
   ]
  },
  {
   "cell_type": "code",
   "execution_count": 5,
   "id": "61d700db",
   "metadata": {},
   "outputs": [],
   "source": [
    "df.drop(['NEWJobHunt','NEWJobHuntResearch','NEWLearn'], \n",
    "        axis=1, \n",
    "        inplace=True)\n",
    "\n"
   ]
  },
  {
   "cell_type": "code",
   "execution_count": 6,
   "id": "4c8311e3",
   "metadata": {},
   "outputs": [
    {
     "data": {
      "text/plain": [
       "Index(['RespondentID', 'Year', 'Country', 'Employment', 'UndergradMajor',\n",
       "       'DevType', 'LanguageWorkedWith', 'LanguageDesireNextYear',\n",
       "       'DatabaseWorkedWith', 'DatabaseDesireNextYear', 'PlatformWorkedWith',\n",
       "       'PlatformDesireNextYear', 'Hobbyist', 'OrgSize', 'YearsCodePro',\n",
       "       'JobSeek', 'ConvertedComp', 'WorkWeekHrs'],\n",
       "      dtype='object')"
      ]
     },
     "execution_count": 6,
     "metadata": {},
     "output_type": "execute_result"
    }
   ],
   "source": [
    "df.columns"
   ]
  },
  {
   "cell_type": "markdown",
   "id": "caf3d404",
   "metadata": {},
   "source": [
    "## Analysing developers by country\n"
   ]
  },
  {
   "cell_type": "code",
   "execution_count": 7,
   "id": "6e8fb947",
   "metadata": {},
   "outputs": [
    {
     "name": "stdout",
     "output_type": "stream",
     "text": [
      "Country         object\n",
      "RespondentID     int64\n",
      "dtype: object\n"
     ]
    }
   ],
   "source": [
    "num_of_devs_country = df[['RespondentID', 'Country']].groupby('Country').count().reset_index()\n",
    "\n",
    "print(num_of_devs_country.dtypes)"
   ]
  },
  {
   "cell_type": "code",
   "execution_count": 8,
   "id": "83e961a7",
   "metadata": {},
   "outputs": [
    {
     "name": "stdout",
     "output_type": "stream",
     "text": [
      "          Country  RespondentID  Employment  DevType  \\\n",
      "0          Canada          8979         148      944   \n",
      "1           China          2072         139      491   \n",
      "2          France          6861         104      848   \n",
      "3         Germany         16215         386     1691   \n",
      "4           Japan          1049          13      109   \n",
      "5          Mexico          1918          25      207   \n",
      "6           Spain          4534          74      434   \n",
      "7  United Kingdom         15854         196     1472   \n",
      "8   United States         53727         699     4580   \n",
      "\n",
      "   Employment_missing_data_%  DevType_missing_data_%  \n",
      "0                   1.648290               10.513420  \n",
      "1                   6.708494               23.696911  \n",
      "2                   1.515814               12.359714  \n",
      "3                   2.380512               10.428615  \n",
      "4                   1.239276               10.390848  \n",
      "5                   1.303441               10.792492  \n",
      "6                   1.632113                9.572122  \n",
      "7                   1.236281                9.284723  \n",
      "8                   1.301022                8.524578  \n"
     ]
    }
   ],
   "source": [
    "missing_data = df[['Employment','DevType']].isnull().groupby(df['Country']).sum().reset_index()\n",
    "\n",
    "df_temp = num_of_devs_country.merge(missing_data, left_on='Country', right_on='Country')\n",
    "\n",
    "df_temp['Employment_missing_data_%'] = df_temp.apply(\n",
    "    lambda row: (row.Employment/row.RespondentID)*100, axis=1)\n",
    "df_temp['DevType_missing_data_%'] = df_temp.apply(\n",
    "    lambda row: (row.DevType/row.RespondentID)*100, axis=1)\n",
    "\n",
    "print(df_temp)"
   ]
  },
  {
   "cell_type": "code",
   "execution_count": 9,
   "id": "0b992b3c",
   "metadata": {
    "scrolled": false
   },
   "outputs": [
    {
     "data": {
      "image/png": "[encoded data removed]",
      "text/plain": [
       "<Figure size 1080x360 with 1 Axes>"
      ]
     },
     "metadata": {
      "needs_background": "light"
     },
     "output_type": "display_data"
    },
    {
     "data": {
      "image/png": "[encoded data removed]",
      "text/plain": [
       "<Figure size 1080x360 with 1 Axes>"
      ]
     },
     "metadata": {
      "needs_background": "light"
     },
     "output_type": "display_data"
    }
   ],
   "source": [
    "A=sns.catplot(\n",
    "    data=missing_data, kind=\"bar\",\n",
    "    x=\"Country\", y=\"Employment\",\n",
    "    height =5, aspect = 3)\n",
    "\n",
    "B=sns.catplot(\n",
    "    data=missing_data, kind=\"bar\",\n",
    "    x=\"Country\", y=\"DevType\",\n",
    "    height = 5, aspect = 3)"
   ]
  },
  {
   "cell_type": "markdown",
   "id": "d4d2c4fd",
   "metadata": {},
   "source": [
    "We see that, with the exception to China, all countries have roughly the same percentage of DevType and Employment missing data when compared to eh country's total developers. \n",
    "\n",
    "For the purpose of the exercise, we assume that the missing data in these two columns is missing completely at random (MCAR)"
   ]
  },
  {
   "cell_type": "code",
   "execution_count": 10,
   "id": "c2893f2a",
   "metadata": {},
   "outputs": [],
   "source": [
    " df.dropna(subset=['DevType', 'Employment'], inplace=True, how='any')"
   ]
  },
  {
   "cell_type": "code",
   "execution_count": 32,
   "id": "14c44bfc",
   "metadata": {},
   "outputs": [
    {
     "data": {
      "text/plain": [
       "99975"
      ]
     },
     "execution_count": 32,
     "metadata": {},
     "output_type": "execute_result"
    }
   ],
   "source": [
    "len(df)"
   ]
  },
  {
   "cell_type": "code",
   "execution_count": 11,
   "id": "d3215074",
   "metadata": {},
   "outputs": [
    {
     "data": {
      "image/png": "[encoded data removed]",
      "text/plain": [
       "<Figure size 3240x360 with 6 Axes>"
      ]
     },
     "metadata": {
      "needs_background": "light"
     },
     "output_type": "display_data"
    }
   ],
   "source": [
    "empfig = sns.catplot(x=\"Country\", col=\"Employment\",\n",
    "                data=df, kind=\"count\",\n",
    "                height=5, aspect=1.5);"
   ]
  },
  {
   "cell_type": "code",
   "execution_count": 28,
   "id": "c9b18ef8",
   "metadata": {},
   "outputs": [
    {
     "name": "stderr",
     "output_type": "stream",
     "text": [
      "/var/folders/75/lyw_2gw520g01lbc7x5jmbd4wpgvj8/T/ipykernel_4218/2538786890.py:3: SettingWithCopyWarning: \n",
      "A value is trying to be set on a copy of a slice from a DataFrame.\n",
      "Try using .loc[row_indexer,col_indexer] = value instead\n",
      "\n",
      "See the caveats in the documentation: https://pandas.pydata.org/pandas-docs/stable/user_guide/indexing.html#returning-a-view-versus-a-copy\n",
      "  devdf.loc[devdf['DevType'].str.contains('back-end'), 'BackEnd'] = True\n",
      "/var/folders/75/lyw_2gw520g01lbc7x5jmbd4wpgvj8/T/ipykernel_4218/2538786890.py:4: SettingWithCopyWarning: \n",
      "A value is trying to be set on a copy of a slice from a DataFrame.\n",
      "Try using .loc[row_indexer,col_indexer] = value instead\n",
      "\n",
      "See the caveats in the documentation: https://pandas.pydata.org/pandas-docs/stable/user_guide/indexing.html#returning-a-view-versus-a-copy\n",
      "  devdf.loc[devdf['DevType'].str.contains('front-end'), 'FrontEnd'] = True\n",
      "/var/folders/75/lyw_2gw520g01lbc7x5jmbd4wpgvj8/T/ipykernel_4218/2538786890.py:5: SettingWithCopyWarning: \n",
      "A value is trying to be set on a copy of a slice from a DataFrame.\n",
      "Try using .loc[row_indexer,col_indexer] = value instead\n",
      "\n",
      "See the caveats in the documentation: https://pandas.pydata.org/pandas-docs/stable/user_guide/indexing.html#returning-a-view-versus-a-copy\n",
      "  devdf.loc[devdf['DevType'].str.contains('full-stack'), 'FullStack'] = True\n",
      "/var/folders/75/lyw_2gw520g01lbc7x5jmbd4wpgvj8/T/ipykernel_4218/2538786890.py:6: SettingWithCopyWarning: \n",
      "A value is trying to be set on a copy of a slice from a DataFrame.\n",
      "Try using .loc[row_indexer,col_indexer] = value instead\n",
      "\n",
      "See the caveats in the documentation: https://pandas.pydata.org/pandas-docs/stable/user_guide/indexing.html#returning-a-view-versus-a-copy\n",
      "  devdf.loc[devdf['DevType'].str.contains('mobile'), 'Mobile'] = True\n",
      "/var/folders/75/lyw_2gw520g01lbc7x5jmbd4wpgvj8/T/ipykernel_4218/2538786890.py:7: SettingWithCopyWarning: \n",
      "A value is trying to be set on a copy of a slice from a DataFrame.\n",
      "Try using .loc[row_indexer,col_indexer] = value instead\n",
      "\n",
      "See the caveats in the documentation: https://pandas.pydata.org/pandas-docs/stable/user_guide/indexing.html#returning-a-view-versus-a-copy\n",
      "  devdf.loc[devdf['DevType'].str.contains('administrator'), 'Admin'] = True\n"
     ]
    }
   ],
   "source": [
    "devdf = df[['Country','DevType']]\n",
    "\n",
    "devdf.loc[devdf['DevType'].str.contains('back-end'), 'BackEnd'] = True\n",
    "devdf.loc[devdf['DevType'].str.contains('front-end'), 'FrontEnd'] = True\n",
    "devdf.loc[devdf['DevType'].str.contains('full-stack'), 'FullStack'] = True\n",
    "devdf.loc[devdf['DevType'].str.contains('mobile'), 'Mobile'] = True\n",
    "devdf.loc[devdf['DevType'].str.contains('administrator'), 'Admin'] = True\n",
    "\n",
    "devdf = devdf.melt(id_vars=['Country'], \n",
    "                  value_vars=['BackEnd','FrontEnd','FullStack','Mobile','Admin'], \n",
    "                  var_name='Dev_category',\n",
    "                  value_name='Dev_flag')\n",
    "\n",
    "#print(dev['Dev_category'].value_counts())\n"
   ]
  },
  {
   "cell_type": "code",
   "execution_count": 33,
   "id": "7f1141ff",
   "metadata": {},
   "outputs": [
    {
     "name": "stdout",
     "output_type": "stream",
     "text": [
      "BackEnd      99975\n",
      "FrontEnd     99975\n",
      "FullStack    99975\n",
      "Mobile       99975\n",
      "Admin        99975\n",
      "Name: Dev_category, dtype: int64\n"
     ]
    },
    {
     "data": {
      "text/plain": [
       "FullStack    32494\n",
       "BackEnd      29588\n",
       "FrontEnd     19491\n",
       "Admin        18818\n",
       "Mobile        8754\n",
       "Name: Dev_category, dtype: int64"
      ]
     },
     "execution_count": 33,
     "metadata": {},
     "output_type": "execute_result"
    }
   ],
   "source": [
    "print(devdf.Dev_category.value_counts())\n",
    "devdf.dropna(how='any', inplace=True)\n",
    "devdf.Dev_category.value_counts()"
   ]
  },
  {
   "cell_type": "code",
   "execution_count": 40,
   "id": "68429f35",
   "metadata": {},
   "outputs": [
    {
     "data": {
      "image/png": "[encoded data removed]",
      "text/plain": [
       "<Figure size 3240x432 with 5 Axes>"
      ]
     },
     "metadata": {
      "needs_background": "light"
     },
     "output_type": "display_data"
    }
   ],
   "source": [
    "devFig = sns.catplot(data=devdf, \n",
    "                     x='Country', \n",
    "                     kind='count', \n",
    "                     col='Dev_category',\n",
    "                    height=6,\n",
    "                    aspect=1.5)"
   ]
  },
  {
   "cell_type": "markdown",
   "id": "fc0eb1b9",
   "metadata": {},
   "source": [
    "## Investigating developer undergraduate majors"
   ]
  },
  {
   "cell_type": "code",
   "execution_count": 41,
   "id": "31a10373",
   "metadata": {},
   "outputs": [
    {
     "data": {
      "image/png": "[encoded data removed]",
      "text/plain": [
       "<Figure size 288x288 with 1 Axes>"
      ]
     },
     "metadata": {
      "needs_background": "light"
     },
     "output_type": "display_data"
    }
   ],
   "source": [
    "missingUndergrad = df['UndergradMajor'].isnull().groupby(df['Year']).sum().reset_index()\n",
    " \n",
    "sns.catplot(x=\"Year\", y=\"UndergradMajor\",\n",
    "                data=missingUndergrad, kind=\"bar\",\n",
    "                height=4, aspect=1);"
   ]
  },
  {
   "cell_type": "code",
   "execution_count": 43,
   "id": "4455ae95",
   "metadata": {},
   "outputs": [],
   "source": [
    "df = df.sort_values(['RespondentID','Year'])\n",
    "#Every respondent filled in what they majored in in 2020, we can therefore backfill the null entries in 2018 and 2019."
   ]
  },
  {
   "cell_type": "code",
   "execution_count": 44,
   "id": "c8f3f9e4",
   "metadata": {},
   "outputs": [],
   "source": [
    "df['UndergradMajor'].bfill(axis=0, inplace=True)"
   ]
  },
  {
   "cell_type": "code",
   "execution_count": 75,
   "id": "9adefa0a",
   "metadata": {},
   "outputs": [
    {
     "name": "stderr",
     "output_type": "stream",
     "text": [
      "/var/folders/75/lyw_2gw520g01lbc7x5jmbd4wpgvj8/T/ipykernel_4218/740050140.py:4: SettingWithCopyWarning: \n",
      "A value is trying to be set on a copy of a slice from a DataFrame\n",
      "\n",
      "See the caveats in the documentation: https://pandas.pydata.org/pandas-docs/stable/user_guide/indexing.html#returning-a-view-versus-a-copy\n",
      "  edudf.dropna(how='any', inplace=True)\n",
      "/var/folders/75/lyw_2gw520g01lbc7x5jmbd4wpgvj8/T/ipykernel_4218/740050140.py:5: SettingWithCopyWarning: \n",
      "A value is trying to be set on a copy of a slice from a DataFrame.\n",
      "Try using .loc[row_indexer,col_indexer] = value instead\n",
      "\n",
      "See the caveats in the documentation: https://pandas.pydata.org/pandas-docs/stable/user_guide/indexing.html#returning-a-view-versus-a-copy\n",
      "  edudf.loc[edudf['UndergradMajor'].str.contains('(?i)social science'), 'social_science'] = True\n",
      "/var/folders/75/lyw_2gw520g01lbc7x5jmbd4wpgvj8/T/ipykernel_4218/740050140.py:6: SettingWithCopyWarning: \n",
      "A value is trying to be set on a copy of a slice from a DataFrame.\n",
      "Try using .loc[row_indexer,col_indexer] = value instead\n",
      "\n",
      "See the caveats in the documentation: https://pandas.pydata.org/pandas-docs/stable/user_guide/indexing.html#returning-a-view-versus-a-copy\n",
      "  edudf.loc[edudf['UndergradMajor'].str.contains('(?i)natural science'), 'natural_science'] = True\n",
      "/var/folders/75/lyw_2gw520g01lbc7x5jmbd4wpgvj8/T/ipykernel_4218/740050140.py:7: SettingWithCopyWarning: \n",
      "A value is trying to be set on a copy of a slice from a DataFrame.\n",
      "Try using .loc[row_indexer,col_indexer] = value instead\n",
      "\n",
      "See the caveats in the documentation: https://pandas.pydata.org/pandas-docs/stable/user_guide/indexing.html#returning-a-view-versus-a-copy\n",
      "  edudf.loc[edudf['UndergradMajor'].str.contains('(?i)computer science'), 'computer_science'] = True\n",
      "/var/folders/75/lyw_2gw520g01lbc7x5jmbd4wpgvj8/T/ipykernel_4218/740050140.py:8: SettingWithCopyWarning: \n",
      "A value is trying to be set on a copy of a slice from a DataFrame.\n",
      "Try using .loc[row_indexer,col_indexer] = value instead\n",
      "\n",
      "See the caveats in the documentation: https://pandas.pydata.org/pandas-docs/stable/user_guide/indexing.html#returning-a-view-versus-a-copy\n",
      "  edudf.loc[edudf['UndergradMajor'].str.contains('(?i)development'), 'development'] = True\n",
      "/var/folders/75/lyw_2gw520g01lbc7x5jmbd4wpgvj8/T/ipykernel_4218/740050140.py:9: SettingWithCopyWarning: \n",
      "A value is trying to be set on a copy of a slice from a DataFrame.\n",
      "Try using .loc[row_indexer,col_indexer] = value instead\n",
      "\n",
      "See the caveats in the documentation: https://pandas.pydata.org/pandas-docs/stable/user_guide/indexing.html#returning-a-view-versus-a-copy\n",
      "  edudf.loc[edudf['UndergradMajor'].str.contains('(?i)another engineering'), 'another_engineering'] = True\n",
      "/var/folders/75/lyw_2gw520g01lbc7x5jmbd4wpgvj8/T/ipykernel_4218/740050140.py:10: SettingWithCopyWarning: \n",
      "A value is trying to be set on a copy of a slice from a DataFrame.\n",
      "Try using .loc[row_indexer,col_indexer] = value instead\n",
      "\n",
      "See the caveats in the documentation: https://pandas.pydata.org/pandas-docs/stable/user_guide/indexing.html#returning-a-view-versus-a-copy\n",
      "  edudf.loc[edudf['UndergradMajor'].str.contains('(?i)never declared'), 'never_declared'] = True\n"
     ]
    }
   ],
   "source": [
    "majors = ['social_science','natural_science','computer_science','development','another_engineering','never_declared']\n",
    "\n",
    "edudf = df[['Year', 'UndergradMajor']]\n",
    "edudf.dropna(how='any', inplace=True)\n",
    "edudf.loc[edudf['UndergradMajor'].str.contains('(?i)social science'), 'social_science'] = True\n",
    "edudf.loc[edudf['UndergradMajor'].str.contains('(?i)natural science'), 'natural_science'] = True\n",
    "edudf.loc[edudf['UndergradMajor'].str.contains('(?i)computer science'), 'computer_science'] = True\n",
    "edudf.loc[edudf['UndergradMajor'].str.contains('(?i)development'), 'development'] = True\n",
    "edudf.loc[edudf['UndergradMajor'].str.contains('(?i)another engineering'), 'another_engineering'] = True\n",
    "edudf.loc[edudf['UndergradMajor'].str.contains('(?i)never declared'), 'never_declared'] = True\n",
    "\n",
    "edudf = edudf.melt(id_vars=['Year'], \n",
    "                  value_vars= majors,\n",
    "                  var_name='major_category',\n",
    "                  value_name='major_flag')\n",
    "\n",
    "\n"
   ]
  },
  {
   "cell_type": "code",
   "execution_count": 82,
   "id": "838cb5ed",
   "metadata": {},
   "outputs": [
    {
     "name": "stdout",
     "output_type": "stream",
     "text": [
      "   Year       major_category  major_flag\n",
      "0  2018  another_engineering        3054\n",
      "1  2018     computer_science       24413\n",
      "2  2018          development        1097\n",
      "3  2018      natural_science        2171\n",
      "4  2018       never_declared         487\n"
     ]
    }
   ],
   "source": [
    "edudf.dropna(how='any', inplace=True)\n",
    "edudf = edudf.groupby(['Year','major_category']).count().reset_index()\n",
    "print(edudf.head())"
   ]
  },
  {
   "cell_type": "code",
   "execution_count": 84,
   "id": "c132b6f1",
   "metadata": {},
   "outputs": [
    {
     "data": {
      "image/png": "[encoded data removed]",
      "text/plain": [
       "<Figure size 3888x432 with 6 Axes>"
      ]
     },
     "metadata": {
      "needs_background": "light"
     },
     "output_type": "display_data"
    }
   ],
   "source": [
    "eduFig = sns.catplot(x=\"Year\", y='major_flag', col=\"major_category\",\n",
    "                data=edudf, kind=\"bar\",\n",
    "                height=6, aspect=1.5)"
   ]
  },
  {
   "cell_type": "markdown",
   "id": "138d67e7",
   "metadata": {},
   "source": [
    "People entering a devolepment role significantly decresed in 2020 compared to the previous two yea"
   ]
  }
 ],
 "metadata": {
  "kernelspec": {
   "display_name": "Python 3 (ipykernel)",
   "language": "python",
   "name": "python3"
  },
  "language_info": {
   "codemirror_mode": {
    "name": "ipython",
    "version": 3
   },
   "file_extension": ".py",
   "mimetype": "text/x-python",
   "name": "python",
   "nbconvert_exporter": "python",
   "pygments_lexer": "ipython3",
   "version": "3.8.8"
  }
 },
 "nbformat": 4,
 "nbformat_minor": 5
}
